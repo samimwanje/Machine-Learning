{
 "cells": [
  {
   "cell_type": "markdown",
   "metadata": {},
   "source": [
    "<b> Author: Sami Mwanje, mm223kk@student.lnu.se </b>"
   ]
  },
  {
   "cell_type": "code",
   "execution_count": 106,
   "metadata": {},
   "outputs": [],
   "source": [
    "import numpy as np\n",
    "import  pandas as pd\n",
    "from sklearn.svm import SVC\n",
    "from sklearn.model_selection import GridSearchCV\n",
    "from sklearn.model_selection import train_test_split\n",
    "from matplotlib.colors import ListedColormap\n",
    "from matplotlib import pyplot as plt\n",
    "from sklearn.metrics import accuracy_score\n",
    "from sklearn.metrics import confusion_matrix, ConfusionMatrixDisplay\n"
   ]
  },
  {
   "cell_type": "markdown",
   "metadata": {},
   "source": [
    "The numpy library is used to handle matrixes.\n",
    "\n",
    "sklearn.svm is used for the SVC the SVM classfiers.\n",
    "\n",
    "sklearn.model_selection is used for gird search.\n",
    "\n",
    "matplot is used for the plots."
   ]
  },
  {
   "cell_type": "code",
   "execution_count": 107,
   "metadata": {},
   "outputs": [
    {
     "name": "stdout",
     "output_type": "stream",
     "text": [
      "\n",
      "Test set X: (9999, 784),\n",
      "Test set Y: (9999,)\n"
     ]
    }
   ],
   "source": [
    "mnistTrain = np.asarray(pd.read_csv('mnistTrain.csv', delimiter=',')) # Read the minist data file.\n",
    "mnistTest = np.asarray(pd.read_csv('mnistTest.csv', delimiter=',')) # Read the minist data file.\n",
    "\n",
    "np.random.shuffle(mnistTrain)          # Shuffle rows in mnistTrain\n",
    "np.random.shuffle(mnistTest)          # Shuffle rows in mnistTest\n",
    "\n",
    "xTrain = np.array(mnistTrain[:10000,1:])\n",
    "yTrain = np.array(mnistTrain[:10000,0])\n",
    "#print('Training set X: %s,\\nTraining set Y: %s' % (xTrain.shape, yTrain.shape )) # print the dimentions of the train data\n",
    "\n",
    "#Divide the dataset into a training set of size.\n",
    "xTest = np.array(mnistTest[:10000,1:])\n",
    "yTest = np.array(mnistTest[:10000,0])\n",
    "print('\\nTest set X: %s,\\nTest set Y: %s' % (xTest.shape, yTest.shape )) # print the dimentions of the train data"
   ]
  },
  {
   "cell_type": "markdown",
   "metadata": {},
   "source": [
    "The training set and test set is loaded from the data set using the pandas libarary.\n",
    "\n",
    "The data is splited up into trainig set and test set.\n",
    "\n",
    "Each set is split up into X-part, and Y-part.\n",
    "\n",
    "Y-part containts the labels, and the X-part contains the features for the MNIST data set."
   ]
  },
  {
   "cell_type": "markdown",
   "metadata": {},
   "source": [
    "<b> Exercise 2.1:  One versus all MNIST </b>"
   ]
  },
  {
   "cell_type": "code",
   "execution_count": 108,
   "metadata": {},
   "outputs": [
    {
     "name": "stdout",
     "output_type": "stream",
     "text": [
      "Grid Search SVC: [{'kernel': ['rbf'], 'C': [6, 7, 8, 9, 10, 11], 'gamma': ['scale']}]\n",
      "Best paramrs: {'C': 7, 'gamma': 'scale', 'kernel': 'rbf'},\n",
      "Training Score: 0.962\n",
      "\n"
     ]
    }
   ],
   "source": [
    "cmap_light = ListedColormap(['#FFAAAA', '#AAFFAA', '#AAAAFF','#000000']) # mesh plot\n",
    "cmap_bold = ListedColormap(['#FF0000', '#00FF00', '#0000FF', '#555353']) # colors\n",
    "\n",
    "parameters = [6,7,8,9,10,11] # The values that are going to be checked.\n",
    "#gamma = [1e-11,1e-10,1e-9,1e-8,1e-7,1e-6]\n",
    "#Setting up the parameters to the SVC.\n",
    "svcParameters = [{'kernel':['rbf'], 'C':parameters, 'gamma':['scale']}] # Gamma is set to scale 1 / (n_features * X.var()). Scale is much faster to handle.\n",
    "\n",
    "print(\"Grid Search SVC:\",svcParameters)\n",
    "gridSearchCV = GridSearchCV(SVC(), svcParameters, cv = 5,n_jobs=-1)    # Prepare grid search for current SVC parameter.\n",
    "gridSearchCV.fit(xTrain,yTrain)                              # Run gird search.\n",
    "bestScore = abs(gridSearchCV.best_score_)                              # Check for best score.\n",
    "bestParams = gridSearchCV.best_params_                                 # Check for best params.\n",
    "print(\"Best paramrs: \"+str(bestParams)+\",\\nTraining Score: \" +str(bestScore)+\"\\n\")"
   ]
  },
  {
   "cell_type": "markdown",
   "metadata": {},
   "source": [
    "Here grid search is used to search for the best paramas.\n",
    "\n",
    "The C parameters a set to search between [7,8,9,10,11,12].\n",
    "\n",
    "The gamma parameters are set to scale, which means (1 / (n_features * X.var())) ."
   ]
  },
  {
   "cell_type": "markdown",
   "metadata": {},
   "source": [
    "<b> One versus all testing score: </b>"
   ]
  },
  {
   "cell_type": "code",
   "execution_count": 109,
   "metadata": {},
   "outputs": [
    {
     "name": "stdout",
     "output_type": "stream",
     "text": [
      "Test accuracy: 0.9700970097009701\n",
      "\n"
     ]
    }
   ],
   "source": [
    "clf = SVC(kernel = str(bestParams[\"kernel\"]),C = bestParams[\"C\"], gamma = bestParams[\"gamma\"])\n",
    "clf.fit(xTrain,yTrain)                              # Run gird search.\n",
    "bestScore = abs(clf.score(xTest,yTest))                     # Check for best score.\n",
    "print(\"Test accuracy: \" +str(bestScore)+\"\\n\")"
   ]
  },
  {
   "cell_type": "markdown",
   "metadata": {},
   "source": [
    "A classifier is created using the training data with the grid searched parameters.\n",
    "\n",
    "The score of the test set is is then check used the nearly created classifier.\n",
    "\n",
    "The accuracy here is about 95+ % procent using the produced parameters.\n",
    "\n",
    "In order to reach a test score over 95 %, the C and gamma parameters must be set correct."
   ]
  },
  {
   "cell_type": "markdown",
   "metadata": {},
   "source": [
    "<b> Exercise 2.2: Compare the built-in binarization scheme used for the SVC classs, namely one-vs-one, against the one-vs-all scheme, which was discussed in Lecture 5 </b>"
   ]
  },
  {
   "cell_type": "code",
   "execution_count": 110,
   "metadata": {},
   "outputs": [
    {
     "name": "stdout",
     "output_type": "stream",
     "text": [
      "Accuracy Score: 0.9727972797279728\n"
     ]
    },
    {
     "data": {
      "image/png": "[encoded data removed]",
      "text/plain": [
       "<Figure size 432x288 with 2 Axes>"
      ]
     },
     "metadata": {
      "needs_background": "light"
     },
     "output_type": "display_data"
    }
   ],
   "source": [
    "def OneVsAll(X,y):\n",
    "    possibilities = np.unique(y)                                           # Load a possible values.\n",
    "    classifiers = np.zeros((X.shape[0],possibilities.shape[0]))            # Create an array that is ready for the classes by adding zeros to all rows and columns. \n",
    "    for index in possibilities:\n",
    "        currentY = (y == index).astype(int)                                # Check which index corresponds to current possible value.  Save as 1 or 0.             \n",
    "        classifiers[:,index] = currentY                                    # Add value to array.\n",
    "\n",
    "    probabilities = []                                                     # Array holding probalities.\n",
    "    for index in possibilities:\n",
    "        supportVector = SVC(kernel = str(bestParams[\"kernel\"]),C = bestParams[\"C\"], gamma = bestParams[\"gamma\"],probability=True)   # Create the SVC using parameters.\n",
    "        supportVector.fit(xTrain,classifiers[:,index])                                      # Train the SVM.\n",
    "        probabilities.append(supportVector.predict_proba(xTest))                            # Append current predictions probability to array.\n",
    "\n",
    "    confusionsmatrix = np.array(probabilities)[:,:,1].T                                     # Turn probailies to predictions array.\n",
    "    print(\"Accuracy Score:\", np.sum(yTest == np.argmax(confusionsmatrix,1))/yTest.shape[0]) # Count the accuracy of the predictions. By comparing the predictions with the actual value.\n",
    "    cm = confusion_matrix(yTest, np.argmax(confusionsmatrix,axis=1))                        # Set the confusion matrix parameters.\n",
    "    ConfusionMatrixDisplay(cm, display_labels=possibilities).plot()                         # Plot the confusion matrix with cm-parameters.\n",
    "OneVsAll(xTrain,yTrain)"
   ]
  },
  {
   "cell_type": "markdown",
   "metadata": {},
   "source": [
    "OneVsAll function that is used to turn all the corresponding values to zeros based on the current index. \n",
    "Example for value 9, all values that are 9 will become (true) 1 and so on...\n",
    "\n",
    "The function then trains the SVM for each lavel, and predicts a value with probability.\n",
    "\n",
    "The predictions are later on used to calculate the accuracy and a confusion matrix.\n",
    "\n",
    "The accuracy does not differs very much from the \"skilearn accuracy\", though it is always 0-1 % better.\n",
    "\n",
    "In the confusion matrix above we can see the errors which corresponds to the inaccuracy that we got. We see that most labels where predicted correct.\n",
    "\n",
    "The most correct labels to predict were 1 and 0 which hand the least errors, by judging from what can be seen on the confusion matrix label 5 seems to be the \n",
    "one with most errors. Which indicates the hardest to predict."
   ]
  }
 ],
 "metadata": {
  "kernelspec": {
   "display_name": "Python 3.8.8 ('base')",
   "language": "python",
   "name": "python3"
  },
  "language_info": {
   "codemirror_mode": {
    "name": "ipython",
    "version": 3
   },
   "file_extension": ".py",
   "mimetype": "text/x-python",
   "name": "python",
   "nbconvert_exporter": "python",
   "pygments_lexer": "ipython3",
   "version": "3.8.8"
  },
  "orig_nbformat": 4,
  "vscode": {
   "interpreter": {
    "hash": "7e551358aee86a69aef693f7da0ddb4f4dd586d41867e06372ce040678483a8f"
   }
  }
 },
 "nbformat": 4,
 "nbformat_minor": 2
}
