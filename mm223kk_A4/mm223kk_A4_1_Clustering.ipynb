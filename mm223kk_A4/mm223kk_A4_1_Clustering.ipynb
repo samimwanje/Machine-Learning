{
 "cells": [
  {
   "cell_type": "markdown",
   "metadata": {},
   "source": [
    "<b> Author: Sami Mwanje, mm223kk@student.lnu.se </b>\n",
    "\n",
    "The Wine Dataset for Clustering is used here:\n",
    "\n",
    "https://www.kaggle.com/datasets/harrywang/wine-dataset-for-clustering\n",
    "\n",
    "\"These data are the results of a chemical analysis of wines grown in the same region in Italy but derived from three different cultivars. The analysis determined the quantities of 13 constituents found in each of the three types of wines.\""
   ]
  },
  {
   "cell_type": "code",
   "execution_count": 1,
   "metadata": {},
   "outputs": [],
   "source": [
    "import numpy as np\n",
    "from sklearn.cluster import KMeans"
   ]
  },
  {
   "cell_type": "markdown",
   "metadata": {},
   "source": [
    "The numpy library is used to handle matrixes.\n",
    "\n",
    "sklearn.cluster is used for the KMeans."
   ]
  },
  {
   "cell_type": "code",
   "execution_count": 2,
   "metadata": {},
   "outputs": [],
   "source": [
    "X = np.loadtxt('./cancer.csv', delimiter=',',skiprows=1) # Get all the features with rows expect to the first one from wine."
   ]
  },
  {
   "cell_type": "markdown",
   "metadata": {},
   "source": [
    "Load the wines data using loadtxt. Also print the shape."
   ]
  },
  {
   "cell_type": "markdown",
   "metadata": {},
   "source": [
    "<b>Exercise 1: Clustering </b>\n",
    "\n",
    "Normalizing"
   ]
  },
  {
   "cell_type": "code",
   "execution_count": 3,
   "metadata": {},
   "outputs": [],
   "source": [
    "# Normalizing functionm, since it is always recommended to normalize data before use.\n",
    "def normalizeXData(dataX):\n",
    "    meanValue = dataX.mean(axis=0)                                                  #   Compute mean µi.\n",
    "    stadardDev = dataX.std(axis=0)                                                  #   Compute standard deviation σi.  \n",
    "    return (dataX - meanValue)/stadardDev                                           # Compute normalized Xn in as Xn = (X − µ)/σ. "
   ]
  },
  {
   "cell_type": "markdown",
   "metadata": {},
   "source": [
    "Normalizing features removes different effects from different units.\n",
    "\n",
    "Without nomralization some features can \"starve\" each other."
   ]
  },
  {
   "cell_type": "markdown",
   "metadata": {},
   "source": [
    "Bk-means"
   ]
  },
  {
   "cell_type": "code",
   "execution_count": 4,
   "metadata": {},
   "outputs": [],
   "source": [
    "def kmeans(X,iter):\n",
    "    km = KMeans(n_clusters=2, n_init = iter).fit(X)    # Run k-means on largest cluster.\n",
    "    return km.labels_\n",
    "\n",
    "def bkmeans(X, k, iter):\n",
    "    # 1, Start with a single cluster including all the observations in the data set.\n",
    "    clusters = kmeans(X, iter)\n",
    "    counter = 2\n",
    "    \n",
    "    #  2, Bisecting Divide the largest cluster into two smaller sub-clusters using k-Means\n",
    "    while counter < k:\n",
    "        clusterId, counts = np.unique(clusters, return_counts = True) # Find the unique elements. With number of times each appears.\n",
    "        largestClusterIndex = np.argmax(counts) # Get the id of the largest cluster.\n",
    "        largestindexes = np.nonzero(clusters == clusterId[largestClusterIndex])[0] # Check if it within current clusters, and get the indexes in largest cluster.\n",
    "        largestCluster = X[largestindexes] # Recieve the values for the indexes from the largest cluster.\n",
    "        subCluster = kmeans(largestCluster, iter) # Split into two smaller clusters.\n",
    "        subClusterindexes = np.nonzero(subCluster == 0)[0] # Return indexes of the new sub cluster. Choose the best solution according to SSE\n",
    "        indexes = largestindexes[subClusterindexes]     # Add the subcluster indexes to array.\n",
    "        clusters[indexes] = counter # Update current cluster with the subcluster indexes.\n",
    "        counter += 1                             # Increase the counter, for next round.\n",
    "    return clusters # Return clusters when done."
   ]
  },
  {
   "cell_type": "code",
   "execution_count": 5,
   "metadata": {},
   "outputs": [
    {
     "name": "stdout",
     "output_type": "stream",
     "text": [
      "Clusters:\n",
      "\n",
      " [7 1 3 1 7 6 3 3 2 7 3 9 0 3 6 1 7 7 1 7 1 6 3 3 1 3 7 9 9 3 3 6 3 3 9 6 7\n",
      " 1 1 1 6 6 6 9 1 9 7 1 1 0 1 5 1 1 6 1 1 1 1 9 6 1 9 5 7 1 5 3 7 5 3 6 1 3\n",
      " 9 7 3 9 3 7 7 3 5 5 1 6 7 9 3 9 7 9 3 3 9 7 5 6 6 0 7 1 5 1 1 6 9 1 3 1 1\n",
      " 6 7 9 7 5 9 3 3 7 6 1 6 9 1 3 1 4 7 3 6 3 3 7 7 9 7 9 9 1 9 9 1 9 0 5 3 1\n",
      " 6 8 9 1 9 3 5 6 7 3 2 7 6 5 3 9 9 3 9 5 1 6 3 6 7 1 3 9 7 6 1 3 6 5 6 3 6\n",
      " 6 7 3 3 7 1 7 9 3 6 6 3 7 3 5 6 3 3 7 5 6 3 5 6 6 9 3 6 7 3 6 0 1 1 9 6 6\n",
      " 3 6 1 6 0 1 0 5 6 5 1 8 3 3 3 3 7 6 1 7 9 1 1 6 6 1 9 3 3 1 1 5 6 1 6 7 1\n",
      " 1 5 3 1 7 1 0 3 3 9 3 5 3 3 1 1 1 5 5 3 1 6 9 3 1 6 0 8 1 6 3 5 3 1 1 3 3\n",
      " 6 3 9 9 6 9 9 1 6 3 1 1 3 1 3 7 1 9 6 1 1 7 7 1 1 9 1 3 9 1 1 3 9 9 6 9 8\n",
      " 9 1 1 8 3 0 5 9 7 0 5 6 1 5 1 7 8 3 9 5 6 9 9 7 9 7 7 3 9 9 9 8 7 9 1 7 9\n",
      " 9 8 1 7 9 7 9 6 3 9 9 3 3 8 3 9 5 9 7 9 9 9 7 9 3 3 9 6 7 1 0 6 9 7 9 7 6\n",
      " 7 7 9 6 8 6 9 9 9 7 7 8 1 1 6 8 8 8 1 8 9 9 8 9 9 8 9 6 8 8 9 6 9 0 6 6 8\n",
      " 8 8 9 8 8 8 6 1 1 8 9 3 8 8 8 8 9 8 8 8 6 8 8 5 6 8 9 3 5 1 0 9 1 7 6 0 3\n",
      " 9 8 7 7 7 7 7 7 9 9 5 9 8 9 9 7 8 3 6 6 9 9 9 1 9 8 1 1 3 9 8 7 8 7 1 7 3\n",
      " 3 9 3 7 7 7 7 7 9 8 7 9 7 6 9 9 6 3 3 7 7 9 0 7 8 9 7 7 7 3 3 7 6 3 7 1 6\n",
      " 6 6 3 9 6 7 7 9 9 3 7 6 6 9 8 9 6 7 6 8 6 1 1 8 1 7 7 7 3 8 3 9 7 6 1 6 8\n",
      " 9 6 8 1 6 5 9 3 7 3 7 7 3 0 8 9 7 8 6 9 9 8 8 7 9 6 9 9 6 8 8 8 8 3 3 9 9\n",
      " 3 9 9 5 3 9 9 7 7 3 3 7 0 1 9 9 7 9 9 3 9 8 3 6 6 6 3 3 8 9 8 9 8 9 9 5 6\n",
      " 7 9 9 9 9 3 8 2 9 6 9 3 9 9 6 6 6]\n"
     ]
    }
   ],
   "source": [
    "Xn = normalizeXData(X)               # Normalize X and return Xn.\n",
    "k, iter = X.shape[1], X.shape[1]     # Amount of features in the set.\n",
    "clusters = bkmeans(Xn, k, iter)      # Run bk means with normalized X.\n",
    "print(\"Clusters:\\n\\n\",clusters)      # Make sure that X is a Numpy array of shape (n, p)"
   ]
  }
 ],
 "metadata": {
  "interpreter": {
   "hash": "7e551358aee86a69aef693f7da0ddb4f4dd586d41867e06372ce040678483a8f"
  },
  "kernelspec": {
   "display_name": "Python 3.8.8 ('base')",
   "language": "python",
   "name": "python3"
  },
  "language_info": {
   "codemirror_mode": {
    "name": "ipython",
    "version": 3
   },
   "file_extension": ".py",
   "mimetype": "text/x-python",
   "name": "python",
   "nbconvert_exporter": "python",
   "pygments_lexer": "ipython3",
   "version": "3.8.8"
  },
  "orig_nbformat": 4
 },
 "nbformat": 4,
 "nbformat_minor": 2
}
