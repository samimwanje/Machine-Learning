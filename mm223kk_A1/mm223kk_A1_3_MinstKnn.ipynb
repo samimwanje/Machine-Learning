{
 "cells": [
  {
   "cell_type": "markdown",
   "metadata": {},
   "source": [
    "Author: Sami Mwanje, mm223kk@student.lnu.se\n",
    "\n",
    "The code and structure is based from the pages:\n",
    "\n",
    "https://customers.pyimagesearch.com/lesson-sample-k-nearest-neighbor-classification/\n",
    "\n",
    "https://medium.com/analytics-vidhya/a-beginners-guide-to-knn-and-mnist-handwritten-digits-recognition-using-knn-from-scratch-df6fb982748a\n"
   ]
  },
  {
   "cell_type": "code",
   "execution_count": 1,
   "metadata": {},
   "outputs": [],
   "source": [
    "import numpy as np\n",
    "import  pandas as pd\n",
    "from MinstHelp import knn\n"
   ]
  },
  {
   "cell_type": "markdown",
   "metadata": {},
   "source": [
    "Import all the needed labaries and external files.\n",
    "\n",
    "Numpy for the matrixes.\n",
    "\n",
    "Pandas to faster read the dataset files csv files.\n",
    "\n",
    "MinistHelp which is used for the regression."
   ]
  },
  {
   "cell_type": "code",
   "execution_count": 2,
   "metadata": {},
   "outputs": [
    {
     "name": "stdout",
     "output_type": "stream",
     "text": [
      "Training set X: (10000, 784),\n",
      "Training set Y: (10000, 1)\n",
      "\n",
      "Test set X: (1000, 784),\n",
      "Test set Y: (1000, 1)\n"
     ]
    }
   ],
   "source": [
    "mnistTrain = np.asarray(pd.read_csv('mnistTrain.csv', delimiter=',')) # Read the minist data file.\n",
    "mnistTest = np.asarray(pd.read_csv('mnistTest.csv', delimiter=',')) # Read the minist data file.\n",
    "kValues = [1,3,5,7,9,11]  # Decision boundary with corresponding training error for k\n",
    "\n",
    "trainingSet_X = np.array(mnistTrain[:10000,1:])\n",
    "trainingSet_Y = np.array(mnistTrain[:10000,:1])\n",
    "print('Training set X: %s,\\nTraining set Y: %s' % (trainingSet_X.shape, trainingSet_Y.shape )) # print the dimentions of the train data\n",
    "\n",
    "#Divide the dataset into a training set of size.\n",
    "testSet_X = np.array(mnistTest[:1000,1:])\n",
    "testSet_Y = np.array(mnistTest[:1000,:1])\n",
    "print('\\nTest set X: %s,\\nTest set Y: %s' % (testSet_X.shape, testSet_Y.shape )) # print the dimentions of the train data"
   ]
  },
  {
   "cell_type": "markdown",
   "metadata": {},
   "source": [
    "The training set and test set is created from the data set using the pandas libarary.\n",
    "Kvalues 1,3,5,7,9 and 11 are created and are going to be using for classification.\n",
    "\n",
    "\n",
    "The data is splited up into trainig set and test set.\n",
    "\n",
    "Each set is split up into X-part, and Y-part.\n",
    "\n",
    "Y-part containts the labels, and the X-part contains the features for the MNIST data set.\n"
   ]
  },
  {
   "cell_type": "code",
   "execution_count": 3,
   "metadata": {},
   "outputs": [
    {
     "name": "stdout",
     "output_type": "stream",
     "text": [
      "Training results:\n"
     ]
    },
    {
     "ename": "KeyboardInterrupt",
     "evalue": "",
     "output_type": "error",
     "traceback": [
      "\u001b[1;31m---------------------------------------------------------------------------\u001b[0m",
      "\u001b[1;31mKeyboardInterrupt\u001b[0m                         Traceback (most recent call last)",
      "\u001b[1;32m<ipython-input-3-55b3bd8c3fb2>\u001b[0m in \u001b[0;36m<module>\u001b[1;34m\u001b[0m\n\u001b[0;32m      3\u001b[0m     \u001b[0maccuracy\u001b[0m \u001b[1;33m=\u001b[0m \u001b[0mlen\u001b[0m\u001b[1;33m(\u001b[0m\u001b[0mtrainingSet_X\u001b[0m\u001b[1;33m)\u001b[0m                                               \u001b[1;31m# Accuracy variable as large as the the data set rows.\u001b[0m\u001b[1;33m\u001b[0m\u001b[1;33m\u001b[0m\u001b[0m\n\u001b[0;32m      4\u001b[0m     \u001b[1;32mfor\u001b[0m \u001b[0mx\u001b[0m \u001b[1;32min\u001b[0m \u001b[0mrange\u001b[0m\u001b[1;33m(\u001b[0m\u001b[0mlen\u001b[0m\u001b[1;33m(\u001b[0m\u001b[0mtrainingSet_X\u001b[0m\u001b[1;33m)\u001b[0m\u001b[1;33m)\u001b[0m\u001b[1;33m:\u001b[0m\u001b[1;33m\u001b[0m\u001b[1;33m\u001b[0m\u001b[0m\n\u001b[1;32m----> 5\u001b[1;33m         \u001b[0mresult\u001b[0m \u001b[1;33m=\u001b[0m \u001b[0mknn\u001b[0m\u001b[1;33m(\u001b[0m\u001b[0mtrainingSet_X\u001b[0m\u001b[1;33m,\u001b[0m \u001b[0mtrainingSet_X\u001b[0m\u001b[1;33m[\u001b[0m\u001b[0mx\u001b[0m\u001b[1;33m]\u001b[0m\u001b[1;33m,\u001b[0m \u001b[0mtrainingSet_Y\u001b[0m\u001b[1;33m,\u001b[0m \u001b[0mtrainingSet_Y\u001b[0m\u001b[1;33m,\u001b[0m \u001b[0mk\u001b[0m\u001b[1;33m,\u001b[0m \u001b[0mx\u001b[0m\u001b[1;33m)\u001b[0m      \u001b[1;31m# Calculate ecdulian distance and return the knn result.\u001b[0m\u001b[1;33m\u001b[0m\u001b[1;33m\u001b[0m\u001b[0m\n\u001b[0m\u001b[0;32m      6\u001b[0m         \u001b[1;32mif\u001b[0m \u001b[0mresult\u001b[0m \u001b[1;33m==\u001b[0m \u001b[1;36m0\u001b[0m\u001b[1;33m:\u001b[0m\u001b[1;33m\u001b[0m\u001b[1;33m\u001b[0m\u001b[0m\n\u001b[0;32m      7\u001b[0m             \u001b[0maccuracy\u001b[0m \u001b[1;33m-=\u001b[0m \u001b[1;36m1\u001b[0m                                                       \u001b[1;31m# Decrease accuracy variable on failed knn.\u001b[0m\u001b[1;33m\u001b[0m\u001b[1;33m\u001b[0m\u001b[0m\n",
      "\u001b[1;32me:\\Dropbox\\Skola\\Universitet\\DATATEKNIK\\Maskininlärning\\mm223kk_A1\\MinstHelp.py\u001b[0m in \u001b[0;36mknn\u001b[1;34m(dataSet, xCurrent, labels, trainingSet_Y, k, xS)\u001b[0m\n\u001b[0;32m      5\u001b[0m \u001b[1;31m# Function used to run the k neareset neighbor for each training and test set.\u001b[0m\u001b[1;33m\u001b[0m\u001b[1;33m\u001b[0m\u001b[1;33m\u001b[0m\u001b[0m\n\u001b[0;32m      6\u001b[0m \u001b[1;32mdef\u001b[0m \u001b[0mknn\u001b[0m\u001b[1;33m(\u001b[0m\u001b[0mdataSet\u001b[0m\u001b[1;33m,\u001b[0m \u001b[0mxCurrent\u001b[0m\u001b[1;33m,\u001b[0m \u001b[0mlabels\u001b[0m\u001b[1;33m,\u001b[0m \u001b[0mtrainingSet_Y\u001b[0m\u001b[1;33m,\u001b[0m \u001b[0mk\u001b[0m\u001b[1;33m,\u001b[0m \u001b[0mxS\u001b[0m\u001b[1;33m)\u001b[0m\u001b[1;33m:\u001b[0m\u001b[1;33m\u001b[0m\u001b[1;33m\u001b[0m\u001b[0m\n\u001b[1;32m----> 7\u001b[1;33m     \u001b[0mneighbors\u001b[0m \u001b[1;33m=\u001b[0m \u001b[0mdistanceCalc\u001b[0m\u001b[1;33m(\u001b[0m\u001b[0mdataSet\u001b[0m\u001b[1;33m,\u001b[0m\u001b[0mxCurrent\u001b[0m\u001b[1;33m,\u001b[0m\u001b[0mk\u001b[0m\u001b[1;33m)\u001b[0m     \u001b[1;31m# Tuple holding all the distances, with their index. Sorted by ascending order.\u001b[0m\u001b[1;33m\u001b[0m\u001b[1;33m\u001b[0m\u001b[0m\n\u001b[0m\u001b[0;32m      8\u001b[0m     \u001b[1;32mreturn\u001b[0m \u001b[0mpredict\u001b[0m\u001b[1;33m(\u001b[0m\u001b[0mneighbors\u001b[0m\u001b[1;33m,\u001b[0m \u001b[0mlabels\u001b[0m\u001b[1;33m,\u001b[0m \u001b[0mtrainingSet_Y\u001b[0m\u001b[1;33m,\u001b[0m \u001b[0mk\u001b[0m\u001b[1;33m,\u001b[0m \u001b[0mxS\u001b[0m\u001b[1;33m)\u001b[0m               \u001b[1;31m# Returns the majority if ok or fail.\u001b[0m\u001b[1;33m\u001b[0m\u001b[1;33m\u001b[0m\u001b[0m\n\u001b[0;32m      9\u001b[0m \u001b[1;33m\u001b[0m\u001b[0m\n",
      "\u001b[1;32me:\\Dropbox\\Skola\\Universitet\\DATATEKNIK\\Maskininlärning\\mm223kk_A1\\MinstHelp.py\u001b[0m in \u001b[0;36mdistanceCalc\u001b[1;34m(dataSet, xCurrent, k)\u001b[0m\n\u001b[0;32m     17\u001b[0m     \u001b[0mdistances\u001b[0m \u001b[1;33m=\u001b[0m \u001b[1;33m{\u001b[0m\u001b[1;33m}\u001b[0m\u001b[1;33m\u001b[0m\u001b[1;33m\u001b[0m\u001b[0m\n\u001b[0;32m     18\u001b[0m     \u001b[1;32mfor\u001b[0m \u001b[0mx\u001b[0m \u001b[1;32min\u001b[0m \u001b[0mrange\u001b[0m\u001b[1;33m(\u001b[0m\u001b[0mlen\u001b[0m\u001b[1;33m(\u001b[0m\u001b[0mdataSet\u001b[0m\u001b[1;33m)\u001b[0m\u001b[1;33m)\u001b[0m\u001b[1;33m:\u001b[0m\u001b[1;33m\u001b[0m\u001b[1;33m\u001b[0m\u001b[0m\n\u001b[1;32m---> 19\u001b[1;33m         \u001b[0mdist\u001b[0m \u001b[1;33m=\u001b[0m \u001b[0meuclideanDistance\u001b[0m\u001b[1;33m(\u001b[0m\u001b[0mdataSet\u001b[0m\u001b[1;33m[\u001b[0m\u001b[0mx\u001b[0m\u001b[1;33m]\u001b[0m\u001b[1;33m,\u001b[0m \u001b[0mxCurrent\u001b[0m\u001b[1;33m)\u001b[0m \u001b[1;31m# Euclidean distance from current x,y for current test set indexes.\u001b[0m\u001b[1;33m\u001b[0m\u001b[1;33m\u001b[0m\u001b[0m\n\u001b[0m\u001b[0;32m     20\u001b[0m         \u001b[0mdistances\u001b[0m\u001b[1;33m[\u001b[0m\u001b[0mx\u001b[0m\u001b[1;33m]\u001b[0m \u001b[1;33m=\u001b[0m \u001b[0mdist\u001b[0m  \u001b[1;31m# Add the distance into list.\u001b[0m\u001b[1;33m\u001b[0m\u001b[1;33m\u001b[0m\u001b[0m\n\u001b[0;32m     21\u001b[0m \u001b[1;33m\u001b[0m\u001b[0m\n",
      "\u001b[1;32me:\\Dropbox\\Skola\\Universitet\\DATATEKNIK\\Maskininlärning\\mm223kk_A1\\MinstHelp.py\u001b[0m in \u001b[0;36meuclideanDistance\u001b[1;34m(x1, xCurrent)\u001b[0m\n\u001b[0;32m     10\u001b[0m \u001b[1;31m# function used to run and calculate Euclidean distance.\u001b[0m\u001b[1;33m\u001b[0m\u001b[1;33m\u001b[0m\u001b[1;33m\u001b[0m\u001b[0m\n\u001b[0;32m     11\u001b[0m \u001b[1;32mdef\u001b[0m \u001b[0meuclideanDistance\u001b[0m\u001b[1;33m(\u001b[0m\u001b[0mx1\u001b[0m\u001b[1;33m,\u001b[0m \u001b[0mxCurrent\u001b[0m\u001b[1;33m)\u001b[0m\u001b[1;33m:\u001b[0m\u001b[1;33m\u001b[0m\u001b[1;33m\u001b[0m\u001b[0m\n\u001b[1;32m---> 12\u001b[1;33m      \u001b[0mdistance\u001b[0m \u001b[1;33m=\u001b[0m \u001b[0mnp\u001b[0m\u001b[1;33m.\u001b[0m\u001b[0msum\u001b[0m\u001b[1;33m(\u001b[0m \u001b[1;33m(\u001b[0m\u001b[0mx1\u001b[0m \u001b[1;33m-\u001b[0m \u001b[0mxCurrent\u001b[0m\u001b[1;33m)\u001b[0m\u001b[1;33m**\u001b[0m\u001b[1;36m2\u001b[0m \u001b[1;33m,\u001b[0m \u001b[0maxis\u001b[0m\u001b[1;33m=\u001b[0m\u001b[1;36m0\u001b[0m \u001b[1;33m)\u001b[0m \u001b[1;31m#Euclidean distance formula euclideanDistance((x1, y), (x2, y2)) = √(x1 - x2)² + (y1 - y2)²\u001b[0m\u001b[1;33m\u001b[0m\u001b[1;33m\u001b[0m\u001b[0m\n\u001b[0m\u001b[0;32m     13\u001b[0m      \u001b[1;32mreturn\u001b[0m \u001b[0mnp\u001b[0m\u001b[1;33m.\u001b[0m\u001b[0msqrt\u001b[0m\u001b[1;33m(\u001b[0m\u001b[0mdistance\u001b[0m\u001b[1;33m)\u001b[0m \u001b[1;31m#Euclidean distance formula euclideanDistance((x1, y), (x2, y2)) = √(x1 - x2)² + (y1 - y2)²\u001b[0m\u001b[1;33m\u001b[0m\u001b[1;33m\u001b[0m\u001b[0m\n\u001b[0;32m     14\u001b[0m \u001b[1;33m\u001b[0m\u001b[0m\n",
      "\u001b[1;31mKeyboardInterrupt\u001b[0m: "
     ]
    }
   ],
   "source": [
    "print('Training results:')         # Training set results.\n",
    "for k in kValues:\n",
    "    accuracy = len(trainingSet_X)                                               # Accuracy variable as large as the the data set rows.\n",
    "    for x in range(len(trainingSet_X)):\n",
    "        result = knn(trainingSet_X, trainingSet_X[x], trainingSet_Y, trainingSet_Y, k, x)      # Calculate ecdulian distance and return the knn result.\n",
    "        if result == 0: \n",
    "            accuracy -= 1                                                       # Decrease accuracy variable on failed knn.\n",
    "    \n",
    "    procent =  np.round( (100*(accuracy/len(trainingSet_X))), 2)                # Calculate the success rate.\n",
    "    print('Accuracy Training K=' + str(k) + ': ' + str(procent) + ' %')"
   ]
  },
  {
   "cell_type": "markdown",
   "metadata": {},
   "source": [
    "The MinstHelp external functions are used here to calculate the ecludian distance,\n",
    "and return if the knn result.\n",
    "\n",
    "Data from the training set is used to calculate the nearest neighbours of other datain the training set.\n",
    "If the the knn has the correct majority accuracy will remain otherwise the accuracy will decrease."
   ]
  },
  {
   "cell_type": "code",
   "execution_count": null,
   "metadata": {},
   "outputs": [
    {
     "name": "stdout",
     "output_type": "stream",
     "text": [
      "\n",
      "Test results:\n",
      "Accuracy Test K=1: 92.0 %\n",
      "Accuracy Test K=3: 91.6 %\n",
      "Accuracy Test K=5: 90.8 %\n",
      "Accuracy Test K=7: 90.9 %\n",
      "Accuracy Test K=9: 90.5 %\n",
      "Accuracy Test K=11: 89.5 %\n"
     ]
    }
   ],
   "source": [
    "print('\\nTest results:')        # Test set results.\n",
    "for k in kValues:\n",
    "    accuracy = len(testSet_X)                                      # Accuracy variable as large as the the data set rows.       \n",
    "    for x in range(len(testSet_X)):\n",
    "        result = knn(trainingSet_X, testSet_X[x], testSet_Y, trainingSet_Y, k, x)    # Calculate ecdulian distance and return the knn result.\n",
    "        if result == 0:\n",
    "            accuracy -= 1                                         # Decrease accuracy variable on failed knn.\n",
    "    \n",
    "    procent =  np.round( (100*(accuracy/len(testSet_X))), 2)     # Calculate the success rate.\n",
    "    print('Accuracy Test K=' + str(k) + ': ' + str(procent) + ' %')"
   ]
  },
  {
   "cell_type": "markdown",
   "metadata": {},
   "source": [
    "Knn was used on both training and test set. The k values [1,3,7,9,11] were used.\n",
    "\n",
    "Using K = 3, gave the best accuracy for both training and test set. Which is 97 vs 91 %.\n",
    "\n",
    "Though K = has a 96.15 % training accuracy and a 91.6 % test accuracy, which is a lower variance.\n",
    "Whith still a high accuracy.  \n",
    "\n",
    "In the test set we could see a larger difference between k = 1 and k = 11. This was,\n",
    "almost a 10 % difference. Going to a higher K than 3-5 is therefore not preferable for sensitive data.\n",
    "\n",
    "Higher values of K gave a higher variance error, but lower bias error. "
   ]
  },
  {
   "cell_type": "markdown",
   "metadata": {},
   "source": [
    "<b>Training results:                           &emsp;&emsp;&emsp;&emsp;&emsp;&emsp;&emsp;&emsp;&emsp;&emsp;&emsp;&emsp;&emsp;&emsp;        Test results:</b>  \n",
    "\n",
    "<p> Accuracy Training K=1: 100.0 %             &emsp;&emsp;&emsp;&emsp;&emsp;&emsp;&emsp;&emsp;                Accuracy Test K=1: 100.0 %</p>\n",
    "<p>Accuracy Training K=3: 97.37 %              &emsp;&emsp;&emsp;&emsp;&emsp;&emsp;&emsp;&emsp;                Accuracy Test K=3: 91.6 %</p>\n",
    "<p>Accuracy Training K=5: 96.15 %              &emsp;&emsp;&emsp;&emsp;&emsp;&emsp;&emsp;&emsp;                Accuracy Test K=5: 90.8 %</p>\n",
    "<p>Accuracy Training K=7: 95.18 %              &emsp;&emsp;&emsp;&emsp;&emsp;&emsp;&emsp;&emsp;                Accuracy Test K=7: 90.9 %</p>\n",
    "<p>Accuracy Training K=9: 94.59 %              &emsp;&emsp;&emsp;&emsp;&emsp;&emsp;&emsp;&emsp;                Accuracy Test K=9: 90.5 %</p>\n",
    "<p>Accuracy Training K=11: 93.98 %             &emsp;&emsp;&emsp;&emsp;&emsp;&emsp;&emsp;&nbsp;                Accuracy Test K=11: 89.5 %</p>"
   ]
  }
 ],
 "metadata": {
  "interpreter": {
   "hash": "7e551358aee86a69aef693f7da0ddb4f4dd586d41867e06372ce040678483a8f"
  },
  "kernelspec": {
   "display_name": "Python 3.8.8 ('base')",
   "language": "python",
   "name": "python3"
  },
  "language_info": {
   "codemirror_mode": {
    "name": "ipython",
    "version": 3
   },
   "file_extension": ".py",
   "mimetype": "text/x-python",
   "name": "python",
   "nbconvert_exporter": "python",
   "pygments_lexer": "ipython3",
   "version": "3.8.8"
  },
  "orig_nbformat": 4
 },
 "nbformat": 4,
 "nbformat_minor": 2
}
