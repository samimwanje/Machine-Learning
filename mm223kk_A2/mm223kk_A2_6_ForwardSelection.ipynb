{
 "cells": [
  {
   "cell_type": "markdown",
   "metadata": {},
   "source": [
    "<b> Author: Sami Mwanje, mm223kk@student.lnu.se </b>"
   ]
  },
  {
   "cell_type": "code",
   "execution_count": 654,
   "metadata": {},
   "outputs": [],
   "source": [
    "import numpy as np\n",
    "import matplotlib.pyplot as plt\n",
    "from sklearn.linear_model import LinearRegression\n",
    "from sklearn.model_selection import cross_val_predict\n",
    "from sklearn.model_selection import KFold"
   ]
  },
  {
   "cell_type": "markdown",
   "metadata": {},
   "source": [
    "The numpy library is used to handle matrixes.\n",
    "\n",
    "Matplotlib to plot and handle the plots of the data.\n",
    "\n",
    "Sklearn used for the regression and Kfold validation."
   ]
  },
  {
   "cell_type": "code",
   "execution_count": 655,
   "metadata": {},
   "outputs": [],
   "source": [
    "GPUBenchmark = np.genfromtxt('GPUBenchmark.csv', delimiter=',') # Read the GPUBenchmark.csv file.\n",
    "GPUBenchmarkY = GPUBenchmark[:, 6]          # Read all Y-values, and add to np-array.\n",
    "GPUBenchmarkX = GPUBenchmark[:, 0:6]        # Read all X-values, and add to np-array.\n",
    "p = len(GPUBenchmarkX[0])  # Length of features."
   ]
  },
  {
   "cell_type": "markdown",
   "metadata": {},
   "source": [
    "The needed datas are set here. \n",
    "\n",
    "The GPUBenchmark.csv file is read using np.genfromtx.\n",
    "\n",
    "The data is split into X-features and Y-labels.\n",
    "\n",
    "The variables n and p are created. n = rows and p = columns."
   ]
  },
  {
   "cell_type": "markdown",
   "metadata": {},
   "source": [
    "<b> Exercise 6.1: Implement the forward selection algorithm as discussed in Lecture 6  </b>"
   ]
  },
  {
   "cell_type": "code",
   "execution_count": 656,
   "metadata": {},
   "outputs": [
    {
     "name": "stdout",
     "output_type": "stream",
     "text": [
      "[0]\n",
      "[0, 4]\n",
      "[0, 4, 5]\n",
      "[0, 4, 5, 3]\n",
      "[0, 4, 5, 3, 1]\n",
      "[0, 4, 5, 3, 1, 2]\n",
      "Best model: [0, 4, 5, 3, 1, 2]\n"
     ]
    }
   ],
   "source": [
    "\n",
    "linearReg = LinearRegression()  # Used for the regression prediction of the labels.\n",
    "features = list(range(p))       # Available features that will be used. 0 to p-1.\n",
    "result = []                     # Array holdning the best results.\n",
    "for x in range(p): \n",
    "    MSE =[]  # Array holding current cost function reults, with index.\n",
    "    for i in features:\n",
    "        concateFeature = np.hstack((result,[i])).astype(int)                               # Concatenate current features with current result\n",
    "        currentX = GPUBenchmarkX[:, concateFeature]                                        # Change current model used for prediction.\n",
    "        linearReg.fit(currentX, GPUBenchmarkY)                                             # Fit current model with the labels.\n",
    "        predictY = linearReg.predict(currentX)                                             # Predict the new Y's using the current model.\n",
    "        beta = np.linalg.inv(currentX.T.dot(currentX)).dot(currentX.T).dot(GPUBenchmarkY)  # Find the current betas for the predicted model.\n",
    "\n",
    "        #Create the cost function, and calculate the cost.\n",
    "        j = np.dot(currentX,beta)-predictY        #Createing the cost function J(β).\n",
    "        cost =  (j.T.dot(j))/len(currentX)        #Calculating the cost...\n",
    "        MSE.append(cost)                          # Append the current cost to the MSE array.\n",
    "   \n",
    "    minimumIndex = MSE.index(min(MSE))      # Find index of minimum cost value.\n",
    "    bestFeature = features[minimumIndex]    # Use the index of the minimum cost to find the best feature.\n",
    "    result.append(bestFeature)              # Append the minimum value to the results. The current best feature.\n",
    "    features.pop(minimumIndex)              # Removes the current best feature using the minimum cost-index.\n",
    "    print(result)                           # Print result.\n",
    "print('Best model: ' + str(result))         # Return the result containing the best features values."
   ]
  },
  {
   "cell_type": "markdown",
   "metadata": {},
   "source": [
    "Here we see the best model based on amount of features."
   ]
  },
  {
   "cell_type": "markdown",
   "metadata": {},
   "source": [
    "<b> Exercise 6.2: Apply your forward selection on the GPUbenchmark.csv. </b>"
   ]
  },
  {
   "cell_type": "code",
   "execution_count": 657,
   "metadata": {},
   "outputs": [],
   "source": [
    "Xne = []                                                                          # Array holding the corresponing features values.\n",
    "for i in range(p):                                                                # Transfer \n",
    "    Xne.append(GPUBenchmarkX[:, result[i]])                                         # Append all the features at result index to Xne-array.\n",
    "Xne = np.array(Xne).T                                                               # Transpose the Xne-matrix with index values.\n",
    "valError = []                                                                       # Holding the  valdation errors from the results.\n",
    "k= KFold(n_splits=3)                                                                    # Set k-Fold splits to 3.\n",
    "for i in range(p):\n",
    "    xneTest = Xne[:,:i+1]                                                               # Gather the x-features up to current i.\n",
    "    linearReg = LinearRegression(fit_intercept = True, normalize = True)                # Prepeare model.\n",
    "    predictionY = cross_val_predict(linearReg, xneTest, GPUBenchmarkY, cv=k)            # Predict the model with cross_val_predict.\n",
    "    MSE = ((predictionY-GPUBenchmarkY)**2).mean()                                       # Count the current error.\n",
    "    valError.append(MSE)                                                                # Append error to array.\n",
    "bestIndex = valError.index(min(valError))+1                                             # Get the index of the best features."
   ]
  },
  {
   "cell_type": "markdown",
   "metadata": {},
   "source": [
    "<b> Which is the best model? </b>"
   ]
  },
  {
   "cell_type": "code",
   "execution_count": 658,
   "metadata": {},
   "outputs": [
    {
     "name": "stdout",
     "output_type": "stream",
     "text": [
      "The best number of features is 5\n"
     ]
    },
    {
     "data": {
      "image/png": "[encoded data removed]",
      "text/plain": [
       "<Figure size 432x288 with 1 Axes>"
      ]
     },
     "metadata": {
      "needs_background": "light"
     },
     "output_type": "display_data"
    }
   ],
   "source": [
    "print(\"The best number of features is \"+str(result[result.index(bestIndex)]))        # Print the best number of features based on results.\n",
    "fig, ax = plt.subplots()\n",
    "ax.plot(list(range(1,7)), valError, '-')                                    \n",
    "ax.axvline(bestIndex, linestyle = '--', label = 'Best features', c='r')              # Plot vertical line on the best features. \n",
    "ax.legend()\n",
    "ax.set_xlabel('Features')\n",
    "ax.set_ylabel('MSE')\n",
    "plt.show()                                                                          # Show plot."
   ]
  },
  {
   "cell_type": "markdown",
   "metadata": {},
   "source": [
    "As we can the the mean square error decreases with the number of features. Though we see that three features has a worth fit than 2 features.\n",
    "\n",
    "We can also see that a model with 6 features is very close to 5 in terms of MSE. With this said, we do know that 5 features is more simple than 6 features.\n",
    "\n",
    "The best model to use is here is a model with 5 features. This since it has the least mean square error (MSE) with three fold valdtation gives that. This is also the simplest compared to feature 6."
   ]
  }
 ],
 "metadata": {
  "kernelspec": {
   "display_name": "Python 3.8.8 ('base')",
   "language": "python",
   "name": "python3"
  },
  "language_info": {
   "codemirror_mode": {
    "name": "ipython",
    "version": 3
   },
   "file_extension": ".py",
   "mimetype": "text/x-python",
   "name": "python",
   "nbconvert_exporter": "python",
   "pygments_lexer": "ipython3",
   "version": "3.8.8"
  },
  "orig_nbformat": 4,
  "vscode": {
   "interpreter": {
    "hash": "7e551358aee86a69aef693f7da0ddb4f4dd586d41867e06372ce040678483a8f"
   }
  }
 },
 "nbformat": 4,
 "nbformat_minor": 2
}
