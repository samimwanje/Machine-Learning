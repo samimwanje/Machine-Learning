{
 "cells": [
  {
   "cell_type": "markdown",
   "metadata": {},
   "source": [
    "<b> Author: Sami Mwanje, mm223kk@student.lnu.se </b>"
   ]
  },
  {
   "cell_type": "code",
   "execution_count": 393,
   "metadata": {},
   "outputs": [],
   "source": [
    "import numpy as np\n",
    "import matplotlib.pyplot as plt"
   ]
  },
  {
   "cell_type": "markdown",
   "metadata": {},
   "source": [
    "The numpy library is used to handle matrixes.\n",
    "\n",
    "Matplotlib to plot and handle the plots of the data."
   ]
  },
  {
   "cell_type": "markdown",
   "metadata": {},
   "source": [
    "<b> Exercise 3.1: Read data and shuffle the rows in the raw data matrix. </b>"
   ]
  },
  {
   "cell_type": "code",
   "execution_count": 394,
   "metadata": {},
   "outputs": [],
   "source": [
    "breastCancer = np.genfromtxt('breast_cancer.csv', delimiter=',')          # Read the breast_cancer.csv file.\n",
    "np.random.shuffle(breastCancer)                                           # Shuffle rows in Python\n",
    "\n",
    " #print(\"X- values: \", breastCancerX)                                       # Print Xs.\n",
    " #print(\"Y-values: \", breastCancerY)                                        # Prints Ys."
   ]
  },
  {
   "cell_type": "markdown",
   "metadata": {},
   "source": [
    "The needed datas are set here. \n",
    "\n",
    "The breast_cancer.csv file is read using np.genfromtx.\n",
    "\n",
    "The data is shuffled using np.random.shuffle(...)"
   ]
  },
  {
   "cell_type": "markdown",
   "metadata": {},
   "source": [
    "<b> Exercise 3.2: Replace the responses 2 and 4 with 0 and 1 and divide the dataset into a training set and\n",
    "a test set. How many observations did you allocated for testing, and why this number? </b>"
   ]
  },
  {
   "cell_type": "code",
   "execution_count": 395,
   "metadata": {},
   "outputs": [
    {
     "name": "stdout",
     "output_type": "stream",
     "text": [
      "Training set shape X: (546, 9), Shape Y: (546,)\n",
      "Test set shape X: (137, 9), Shape Y: (137,)\n"
     ]
    }
   ],
   "source": [
    "\n",
    "\n",
    "for i in range(len(breastCancer)): \n",
    "    if  breastCancer[i][9] == 2:                                                # Check if current Y is 2. \n",
    "        breastCancer[i][9] = 0                                                  # If yes, change to 0.\n",
    "    else:\n",
    "        breastCancer[i][9] = 1                                                  # If no, change to 1.\n",
    "#print(breastCancerY)                                                           # Print the changed Ys.\n",
    "   \n",
    "\n",
    "trainingSetX = np.array(breastCancer[:546,0:9])\n",
    "trainingSetY = np.array(breastCancer[:546,9])\n",
    "#for i in range(len(trainingSetY)):\n",
    "# print(trainingSetY[i])\n",
    "\n",
    "testSetX = breastCancer[546:,0:9]\n",
    "testSetY = breastCancer[546:,9]\n",
    "\n",
    "print(\"Training set shape X: \" +str(trainingSetX.shape) +\", Shape Y: \" +str(trainingSetY.shape))\n",
    "print(\"Test set shape X: \" +str(testSetX.shape) +\", Shape Y: \" +str(testSetY.shape))"
   ]
  },
  {
   "cell_type": "markdown",
   "metadata": {},
   "source": [
    "Y values are binary labels of either benign (2) or malignant (4), benign is changed to 0 and malignan is changed to 1.\n",
    "\n",
    "The shape for the training set is  (546, 9).\n",
    "\n",
    "The shape for the test set is (137, 9).\n",
    "\n",
    "I chose to use 20 % of the data set for test and 80 % for training.\n",
    "\n",
    "This is to get some variance between training and test data, and\n",
    "\n",
    "at the same time have a large enough test set to compute with with a larger training set so that the alogorithm can be trained with a lot of features and labels."
   ]
  },
  {
   "cell_type": "markdown",
   "metadata": {},
   "source": [
    "<b> Exercise 3.3: Normalize the training data. </b>"
   ]
  },
  {
   "cell_type": "code",
   "execution_count": 396,
   "metadata": {},
   "outputs": [],
   "source": [
    "def normalizeXData(dataX):\n",
    "    meanValue = dataX.mean(axis=0)                                                  #   Compute mean µi.\n",
    "    stadardDev = dataX.std(axis=0)                                                  #   Compute standard deviation σi.  \n",
    "    return (dataX - meanValue)/stadardDev                                           # Compute normalized Xn in as Xn = (X − µ)/σ. \n",
    "                                                    \n",
    "n = len(trainingSetX)                                                               # X-Rows.      \n",
    "currentData = np.c_[np.ones((n, 1)), normalizeXData(trainingSetX)]                  # Array holding normalized data."
   ]
  },
  {
   "cell_type": "markdown",
   "metadata": {},
   "source": [
    "Here a normalization for the X-data is created. \n",
    "Column contining ones is also added for B0."
   ]
  },
  {
   "cell_type": "markdown",
   "metadata": {},
   "source": [
    "<b> Train a linear logistic regression model using gradient descent. </b>"
   ]
  },
  {
   "cell_type": "code",
   "execution_count": 397,
   "metadata": {},
   "outputs": [
    {
     "name": "stdout",
     "output_type": "stream",
     "text": [
      "N =  10000\n",
      "Alpha =  0.01\n"
     ]
    }
   ],
   "source": [
    "def g(x):   # Logistic regression function g(M). Sigmoid function.\n",
    "    return (np.exp(x)/(1 + np.exp(x)))\n",
    "\n",
    "N = 10000       # Set hyperparameters N.\n",
    "alpha = 0.01    # Set hyperparameter aplha.\n",
    "\n",
    "costY = []      # Array holding cost for each iteration.\n",
    "def gradientDescent(Xne, Y, Bj, N, alpha):\n",
    "    for i in range(N):  # Compute N times.\n",
    "        Bj = Bj - (np.dot(((alpha/n)*Xne.T), ((g(np.dot(Xne,Bj)))-Y))) # Compute gradient descent logisic regression  βj+1 = βj −(α/n)XT(g(Xβ) − y)\n",
    "        cost = (-1/n) * (np.dot(Y.T, np.log(g(np.dot(Xne,Bj))))+np.dot((1-Y).T, np.log(1-g(np.dot(Xne,Bj)))))   # Calculate cost function\n",
    "        costY.append(cost)  # Add cost to costY list.\n",
    "\n",
    "    return Bj          # Return computed Bj.\n",
    "\n",
    "Bj = np.zeros(len(currentData[0]))  # Set gradient descent start point as β = [0. 0. 0. 0. 0. 0. 0. 0. 0. 0.]\n",
    "Bgradient = gradientDescent(currentData, trainingSetY, Bj, N, alpha)       # Recieve B, created using gradient descent.\n",
    "print(\"N = \", N)                            # Printing N that gave a 1 % margin.\n",
    "print(\"Alpha = \", alpha)                    # Printing the alpha."
   ]
  },
  {
   "cell_type": "markdown",
   "metadata": {},
   "source": [
    "Here gradient descent is runing using the model and logistic regression.\n",
    "\n",
    "The gradient descent iterates for 10000 times with a rate of 0.01\n",
    "\n",
    "The cost function is also calculated and added in an array which will be used for the print."
   ]
  },
  {
   "cell_type": "markdown",
   "metadata": {},
   "source": [
    "<b> Print the hyperparameters α and Niter and plot the cost function J(β) as a\n",
    "function over iterations.  </b>"
   ]
  },
  {
   "cell_type": "code",
   "execution_count": 398,
   "metadata": {},
   "outputs": [
    {
     "data": {
      "image/png": "[encoded data removed]",
      "text/plain": [
       "<Figure size 432x288 with 1 Axes>"
      ]
     },
     "metadata": {
      "needs_background": "light"
     },
     "output_type": "display_data"
    }
   ],
   "source": [
    "plt.plot(range(1, N + 1), costY)\n",
    "plt.xlabel('N - iterations')\n",
    "plt.ylabel('Cost J(β)')\n",
    "plt.title(\"Cost function J(β)\")\n",
    "plt.show()"
   ]
  },
  {
   "cell_type": "markdown",
   "metadata": {},
   "source": [
    "<b> Exercise 3.4: What is the training error (number of non-correct classifications in the training data) and\n",
    "the training accuracy (percentage of correct classifications) for your model? </b>\n"
   ]
  },
  {
   "cell_type": "code",
   "execution_count": 399,
   "metadata": {},
   "outputs": [
    {
     "name": "stdout",
     "output_type": "stream",
     "text": [
      "Training set errors: 15\n",
      "Training set accuracy: 97.25 %\n"
     ]
    }
   ],
   "source": [
    "predictedY = g(np.dot(currentData ,Bgradient))  # Predict all values using the beta from the gradient descent.\n",
    "\n",
    "errors = 0   # Variable counting wrong predictions.\n",
    "correct = 0 # Variable counting correct predictions.\n",
    "for i in range(len(predictedY)):\n",
    "    if  (predictedY[i] >= 0.5) == (trainingSetY[i]==1): # Check if the current prediction is correct.\n",
    "        correct += 1                                    # If correct add 1 to correct.\n",
    "    else:\n",
    "        errors +=1                                       # If wrong add 1 to wrong.\n",
    "\n",
    "print(\"Training set errors: \" +str(errors))\n",
    "print(\"Training set accuracy: \" +str( round(100 *(correct/len(predictedY)),2)) +\" %\")\n"
   ]
  },
  {
   "cell_type": "markdown",
   "metadata": {},
   "source": [
    "The training set gets around 12 to 18 errors for each computation.\n",
    "\n",
    "That is an accuracy around 97+ % for the training set."
   ]
  },
  {
   "cell_type": "markdown",
   "metadata": {},
   "source": [
    "<b> Exercise 3.5: What is the number of test error and the test accuracy for your model? </b>\n"
   ]
  },
  {
   "cell_type": "code",
   "execution_count": 400,
   "metadata": {},
   "outputs": [
    {
     "name": "stdout",
     "output_type": "stream",
     "text": [
      "Test set errors: 3\n",
      "Test set accuracy: 97.81 %\n"
     ]
    }
   ],
   "source": [
    "n = len(testSetX)                                                               # X-Rows.      \n",
    "currentData = np.c_[np.ones((n, 1)), normalizeXData(testSetX)]                  # Array holding normalized data.\n",
    "\n",
    "Bj = np.zeros(len(currentData[0]))  # Set gradient descent start point as β = [0. 0. 0. 0. 0. 0. 0. 0. 0. 0.]\n",
    "Bgradient = gradientDescent(currentData, testSetY, Bj, N, alpha)       # Recieve B, created using gradient descent.\n",
    "predictedY = g(np.dot(currentData ,Bgradient))  # Predict all values using the beta from the gradient descent.\n",
    "\n",
    "errors = 0   # Variable counting wrong predictions.\n",
    "correct = 0 # Variable counting correct predictions.\n",
    "for i in range(len(predictedY)):\n",
    "    if  (predictedY[i] >= 0.5) == (testSetY[i]==1): # Check if the current prediction is correct.\n",
    "        correct += 1                                    # If correct add 1 to correct.\n",
    "    else:\n",
    "        errors +=1                                       # If wrong add 1 to wrong.\n",
    "\n",
    "print(\"Test set errors: \" +str(errors))\n",
    "print(\"Test set accuracy: \" +str( round(100 *(correct/len(predictedY)),2)) +\" %\")\n"
   ]
  },
  {
   "cell_type": "markdown",
   "metadata": {},
   "source": [
    "The test set gets around 0 to 7 errors for each computation.\n",
    "\n",
    "That is an accuracy around 96+ % for the training set."
   ]
  },
  {
   "cell_type": "markdown",
   "metadata": {},
   "source": [
    "<b> Exercise 3.6: Repeated runs will (due to the shuffling) give different results. Are they qualitatively\n",
    "the same? Do they depend on how many observations you put aside for testing? Is the\n",
    "difference between training and testing expected?\n",
    " </b>\n",
    "\n",
    "The training set is stuck at an accuracy of 97 %, no matter how many times i repeat the run the training set is always around 97 %.\n",
    "\n",
    "The test set though can vary between 0 errors to 6 error, due to the shuffle round. A \"good\" shuffle round can give up to 100 % accuracy for the test set,\n",
    "\n",
    "and a \"bad\" one can give an error around 95 %.\n",
    "\n",
    "The changes above are mainly because of the shuffle, the shuffle trains  the models with new training and test data, which effects the accuracy.\n",
    "\n",
    "Since this is a pretty good model and algorithm changing the size of the test and training data does not largely affect the accuracy.\n",
    "\n",
    "Though a larger test set gives more errors in the test model, while there are less training erros.\n",
    "\n",
    "Smaller test data, gives less errors but the accuracy maintains. The training data will here have more room for errors.\n"
   ]
  }
 ],
 "metadata": {
  "kernelspec": {
   "display_name": "Python 3.8.8 ('base')",
   "language": "python",
   "name": "python3"
  },
  "language_info": {
   "codemirror_mode": {
    "name": "ipython",
    "version": 3
   },
   "file_extension": ".py",
   "mimetype": "text/x-python",
   "name": "python",
   "nbconvert_exporter": "python",
   "pygments_lexer": "ipython3",
   "version": "3.8.8"
  },
  "orig_nbformat": 4,
  "vscode": {
   "interpreter": {
    "hash": "7e551358aee86a69aef693f7da0ddb4f4dd586d41867e06372ce040678483a8f"
   }
  }
 },
 "nbformat": 4,
 "nbformat_minor": 2
}
