{
 "cells": [
  {
   "cell_type": "markdown",
   "metadata": {},
   "source": [
    "<b> Author: Sami Mwanje, mm223kk@student.lnu.se </b>"
   ]
  },
  {
   "cell_type": "code",
   "execution_count": 10,
   "metadata": {},
   "outputs": [],
   "source": [
    "import numpy as np\n",
    "import matplotlib.pyplot as plt"
   ]
  },
  {
   "cell_type": "markdown",
   "metadata": {},
   "source": [
    "The numpy library is used to handle matrixes.\n",
    "\n",
    "Matplotlib to plot and handle the plots of the data."
   ]
  },
  {
   "cell_type": "code",
   "execution_count": 11,
   "metadata": {},
   "outputs": [],
   "source": [
    "GPUBenchmark = np.genfromtxt('GPUBenchmark.csv', delimiter=',') # Read the GPUBenchmark.csv file.\n",
    "GPUBenchmarkY = GPUBenchmark[:, 6]          # Read all Y-values, and add to np-array.\n",
    "GPUBenchmarkX = GPUBenchmark[:, 0:6]        # Read all X-values, and add to np-array.\n",
    "n = len(GPUBenchmarkX)  # Creating the variable n which is the amount of x-data rows.\n",
    " #print(\"X- values: \", GPUBenchmarkY)\n",
    " #print(\"Y-values: \", GPUBenchmarkX)"
   ]
  },
  {
   "cell_type": "markdown",
   "metadata": {},
   "source": [
    "The needed datas are set here. \n",
    "\n",
    "The GPUBenchmark.csv file is read using np.genfromtx.\n",
    "\n",
    "The data is split into X-features and Y-labels."
   ]
  },
  {
   "cell_type": "markdown",
   "metadata": {},
   "source": [
    "<b> Exercise 1.1: Normalizing X using Xn = (X − µ)/σ.  </b>"
   ]
  },
  {
   "cell_type": "code",
   "execution_count": 12,
   "metadata": {},
   "outputs": [],
   "source": [
    "def normalizeXData(prevData, dataX):\n",
    "    meanValue = dataX.mean(axis=0) #   Compute mean µi\n",
    "    stadardDev = dataX.std(axis=0)  #   Compute standard deviation σi\n",
    "       \n",
    "    return (prevData - meanValue)/stadardDev     # Compute normalized Xn in as Xn = (X − µ)/σ. \n",
    "\n",
    "\n",
    "Xne = np.c_[np.ones((n,1)), normalizeXData(GPUBenchmarkX,GPUBenchmarkX)] # Building extended matrix Xne = [1, Xn]"
   ]
  },
  {
   "cell_type": "markdown",
   "metadata": {},
   "source": [
    "The function above is used to feature normalize X-data. \n",
    "\n",
    "The X-data is recieved, the mean and  the standard deviation is calculated,\n",
    "\n",
    "and the normalized Xn is returned."
   ]
  },
  {
   "cell_type": "markdown",
   "metadata": {},
   "source": [
    "<b> Exercise 1.2: Xi vs y for each one of the features.  </b>"
   ]
  },
  {
   "cell_type": "code",
   "execution_count": 13,
   "metadata": {},
   "outputs": [
    {
     "data": {
      "image/png": "[encoded data removed]",
      "text/plain": [
       "<Figure size 1152x864 with 6 Axes>"
      ]
     },
     "metadata": {
      "needs_background": "light"
     },
     "output_type": "display_data"
    }
   ],
   "source": [
    "plt.figure(figsize=(16, 12))        # Figure settings.\n",
    "for i in range(len(GPUBenchmarkX[0])):  # Get the column range.\n",
    "    plt.subplot(2,3,i+1)        # Current plot.\n",
    "    plt.plot(normalizeXData(GPUBenchmarkX,GPUBenchmarkX)[:,i],GPUBenchmarkY,'bo') #Ploting Xi vs y."
   ]
  },
  {
   "cell_type": "markdown",
   "metadata": {},
   "source": [
    "We are here ploting the normalized X-data with the Y data using for each one of the feature. Y(Xn) = Y"
   ]
  },
  {
   "cell_type": "markdown",
   "metadata": {},
   "source": [
    "<b> Exercise 1.3: Compute β using the normal equation β = (XTe Xe)−1XTey where Xe is the extended normalized matrix [1, X1, . . . , X6]. </b>"
   ]
  },
  {
   "cell_type": "code",
   "execution_count": 14,
   "metadata": {},
   "outputs": [
    {
     "name": "stdout",
     "output_type": "stream",
     "text": [
      "[65.18888889 18.05577085 -5.3521726  13.04504442  4.19572708 10.04004069\n",
      "  1.26250957]\n"
     ]
    }
   ],
   "source": [
    "beta =  np.linalg.inv(Xne.T.dot(Xne)).dot(Xne.T).dot(GPUBenchmarkY) # Creating the normal equation beta n β = (XTe Xe)^(−1)XTey\n",
    "print(beta)"
   ]
  },
  {
   "cell_type": "markdown",
   "metadata": {},
   "source": [
    "<b>What is the predicted benchmark result for a graphic card\n",
    "with the following (non-normalized) feature values?</b>"
   ]
  },
  {
   "cell_type": "code",
   "execution_count": 15,
   "metadata": {},
   "outputs": [
    {
     "name": "stdout",
     "output_type": "stream",
     "text": [
      "110.80403513783199\n"
     ]
    }
   ],
   "source": [
    "\n",
    "predictBenchmark = np.array([2432, 1607, 1683, 8, 8, 256])                           # Data that will be predicted.\n",
    "currentData = []                                                                     # Array holding normalized data.\n",
    "for i in range(len(GPUBenchmarkX[0])):\n",
    "     currentData.insert(i,normalizeXData(predictBenchmark[i],GPUBenchmarkX[:, i]))   # Compute normalized Xn in as Xn = (X − µ)/σ. For each X.\n",
    "   \n",
    "currentData.insert(0,1)                                                              # Add 1 to index 0, so shape matches beta.\n",
    "print(np.dot(beta, currentData))                                                     # Print result."
   ]
  },
  {
   "cell_type": "markdown",
   "metadata": {},
   "source": [
    "The test values are used to predict with given data [2432, 1607, 1683, 8, 8, 256].\n",
    "\n",
    "Answer: 110.80403513783199"
   ]
  },
  {
   "cell_type": "markdown",
   "metadata": {},
   "source": [
    "<b> Exercise 1.4: Cost J(β)  using the β computed by the normal equation. </b>"
   ]
  },
  {
   "cell_type": "code",
   "execution_count": 16,
   "metadata": {},
   "outputs": [
    {
     "name": "stdout",
     "output_type": "stream",
     "text": [
      "12.39644436091566\n"
     ]
    }
   ],
   "source": [
    "j = np.dot(Xne,beta)-GPUBenchmarkY\n",
    "J =  (j.T.dot(j))/n #Createing the cost function J(β).\n",
    "print(J)"
   ]
  },
  {
   "cell_type": "markdown",
   "metadata": {},
   "source": [
    "The J(β) when using the β computed by the normal equation is:<b> 12.39644436091566 </b>"
   ]
  },
  {
   "cell_type": "markdown",
   "metadata": {},
   "source": [
    "<b> Exercise 1.5: Gradient descent\n",
    "\n",
    "a)   Find (and print) hyperparameters (α, N) such that you get within 1% of the final cost\n",
    "for the normal equation. </b>"
   ]
  },
  {
   "cell_type": "code",
   "execution_count": 17,
   "metadata": {},
   "outputs": [
    {
     "name": "stdout",
     "output_type": "stream",
     "text": [
      "N =  10000\n",
      "Alpha =  0.01\n",
      "Error %:  9.071800854965062e-06\n"
     ]
    }
   ],
   "source": [
    "N = 10000       # Set hyperparameters N.\n",
    "alpha = 0.01    # Set hyperparameter aplha.\n",
    "def gradientDescent(Xne, Y, Bj, N, alpha):\n",
    "\n",
    "    for i in range(N):  # Compute N times.\n",
    "        Bj = Bj - (np.dot((alpha * Xne.T), ((np.dot(Xne,Bj)) - Y))) # Compute gradient descent  βj+1 = βj − αXT(Xβj − y)\n",
    "\n",
    "    return Bj          # Return computed Bj.\n",
    "\n",
    "Bj = np.zeros(len(Xne[0]))  # Set gradient descent start point as B = [0. 0. 0. 0. 0. 0. 0.]\n",
    "Bgradient = gradientDescent(Xne, GPUBenchmarkY, Bj, N, alpha)       # Recieve B, created using gradient descent.\n",
    "\n",
    "print(\"N = \", N)                            # Printing N that gave a 1 % margin.\n",
    "print(\"Alpha = \", alpha)                    # Printing the alpha.\n",
    "print(\"Error %: \", 100*(1 - (110.80403513783199/np.dot(Bgradient,currentData))))"
   ]
  },
  {
   "cell_type": "markdown",
   "metadata": {},
   "source": [
    "\n",
    "The used hyperpara meter for iterations is, <b>  N =  10000 </b>\n",
    "\n",
    "The used \"α\" is Alpha = <b>  0.01 </b>\n",
    "\n",
    "\n",
    "The eror is < 1 %, <b> (9.071800854965062e-06 %). </b>\n"
   ]
  },
  {
   "cell_type": "markdown",
   "metadata": {},
   "source": [
    "<b>b) What is the predicted benchmark result for the example graphic card presented above?\n",
    "</b>"
   ]
  },
  {
   "cell_type": "code",
   "execution_count": 18,
   "metadata": {},
   "outputs": [
    {
     "name": "stdout",
     "output_type": "stream",
     "text": [
      "110.8040451897543\n"
     ]
    }
   ],
   "source": [
    "print(np.dot(Bgradient,currentData))        # Printing the computed value of [2432, 1607, 1683, 8, 8, 256] using the B's from gradient descent."
   ]
  },
  {
   "cell_type": "markdown",
   "metadata": {},
   "source": [
    "\n",
    "The predicted benchmark result for the example graphic card is: <b> 110.8040451897543 </b>"
   ]
  }
 ],
 "metadata": {
  "interpreter": {
   "hash": "7e551358aee86a69aef693f7da0ddb4f4dd586d41867e06372ce040678483a8f"
  },
  "kernelspec": {
   "display_name": "Python 3.8.8 ('base')",
   "language": "python",
   "name": "python3"
  },
  "language_info": {
   "codemirror_mode": {
    "name": "ipython",
    "version": 3
   },
   "file_extension": ".py",
   "mimetype": "text/x-python",
   "name": "python",
   "nbconvert_exporter": "python",
   "pygments_lexer": "ipython3",
   "version": "3.8.8"
  },
  "orig_nbformat": 4
 },
 "nbformat": 4,
 "nbformat_minor": 2
}
